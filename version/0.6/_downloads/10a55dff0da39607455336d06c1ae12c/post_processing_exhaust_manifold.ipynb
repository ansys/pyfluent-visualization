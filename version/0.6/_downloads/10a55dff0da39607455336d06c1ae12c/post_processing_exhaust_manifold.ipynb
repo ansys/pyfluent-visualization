{
  "cells": [
    {
      "cell_type": "code",
      "execution_count": null,
      "metadata": {
        "collapsed": false
      },
      "outputs": [],
      "source": [
        "%matplotlib inline"
      ]
    },
    {
      "cell_type": "markdown",
      "metadata": {},
      "source": [
        "\n# Postprocessing using PyVista and Matplotlib\nThis example uses PyVista and Matplotlib to demonstrate PyFluent\npostprocessing capabilities. The 3D model in this example\nis an exhaust manifold that has high temperature flows passing\nthrough it. The flow through the manifold is turbulent and\ninvolves conjugate heat transfer.\n"
      ]
    },
    {
      "cell_type": "markdown",
      "metadata": {},
      "source": [
        "## Perform required imports\nPerform required imports and set the configuration.\n\n"
      ]
    },
    {
      "cell_type": "code",
      "execution_count": null,
      "metadata": {
        "collapsed": false
      },
      "outputs": [],
      "source": [
        "import ansys.fluent.core as pyfluent\nfrom ansys.fluent.core import examples\n\nfrom ansys.fluent.visualization import set_config\nfrom ansys.fluent.visualization.matplotlib import Plots\nfrom ansys.fluent.visualization.pyvista import Graphics\n\nset_config(blocking=True, set_view_on_display=\"isometric\")"
      ]
    },
    {
      "cell_type": "markdown",
      "metadata": {},
      "source": [
        "## Download files and launch Fluent\nDownload the case and data files and launch Fluent as a service in solver\nmode with double precision and two processors. Read in the case and data\nfiles.\n\n"
      ]
    },
    {
      "cell_type": "code",
      "execution_count": null,
      "metadata": {
        "collapsed": false
      },
      "outputs": [],
      "source": [
        "import_case = examples.download_file(\n    filename=\"exhaust_system.cas.h5\", directory=\"pyfluent/exhaust_system\"\n)\n\nimport_data = examples.download_file(\n    filename=\"exhaust_system.dat.h5\", directory=\"pyfluent/exhaust_system\"\n)\n\nsolver_session = pyfluent.launch_fluent(\n    precision=\"double\", processor_count=2, start_transcript=False, mode=\"solver\"\n)\n\nsolver_session.tui.file.read_case(import_case)\nsolver_session.tui.file.read_data(import_data)"
      ]
    },
    {
      "cell_type": "markdown",
      "metadata": {},
      "source": [
        "## Get graphics object\nGet the graphics object.\n\n"
      ]
    },
    {
      "cell_type": "code",
      "execution_count": null,
      "metadata": {
        "collapsed": false
      },
      "outputs": [],
      "source": [
        "graphics = Graphics(session=solver_session)"
      ]
    },
    {
      "cell_type": "markdown",
      "metadata": {},
      "source": [
        "## Create graphics object for mesh display\nCreate a graphics object for the mesh display.\n\n"
      ]
    },
    {
      "cell_type": "code",
      "execution_count": null,
      "metadata": {
        "collapsed": false
      },
      "outputs": [],
      "source": [
        "mesh1 = graphics.Meshes[\"mesh-1\"]"
      ]
    },
    {
      "cell_type": "markdown",
      "metadata": {},
      "source": [
        "## Show edges\nShow edges on the mesh.\n\n"
      ]
    },
    {
      "cell_type": "code",
      "execution_count": null,
      "metadata": {
        "collapsed": false
      },
      "outputs": [],
      "source": [
        "mesh1.show_edges = True"
      ]
    },
    {
      "cell_type": "markdown",
      "metadata": {},
      "source": [
        "## Get surfaces list\nGet the surfaccase list.\n\n"
      ]
    },
    {
      "cell_type": "code",
      "execution_count": null,
      "metadata": {
        "collapsed": false
      },
      "outputs": [],
      "source": [
        "mesh1.surfaces_list = [\n    \"in1\",\n    \"in2\",\n    \"in3\",\n    \"out1\",\n    \"solid_up:1\",\n    \"solid_up:1:830\",\n    \"solid_up:1:830-shadow\",\n]\nmesh1.display(\"window-1\")"
      ]
    },
    {
      "cell_type": "markdown",
      "metadata": {},
      "source": [
        "## Hide edges and display again\nHide the edges and display again.\n\n"
      ]
    },
    {
      "cell_type": "code",
      "execution_count": null,
      "metadata": {
        "collapsed": false
      },
      "outputs": [],
      "source": [
        "mesh1.show_edges = False\nmesh1.display(\"window-2\")"
      ]
    },
    {
      "cell_type": "markdown",
      "metadata": {},
      "source": [
        "## Create plane-surface XY plane\nCreate a plane-surface XY plane.\n\n"
      ]
    },
    {
      "cell_type": "code",
      "execution_count": null,
      "metadata": {
        "collapsed": false
      },
      "outputs": [],
      "source": [
        "surf_xy_plane = graphics.Surfaces[\"xy-plane\"]\nsurf_xy_plane.definition.type = \"plane-surface\"\nplane_surface_xy = surf_xy_plane.definition.plane_surface\nplane_surface_xy.z = -0.0441921\nsurf_xy_plane.display(\"window-3\")"
      ]
    },
    {
      "cell_type": "markdown",
      "metadata": {},
      "source": [
        "## Create plane-surface YZ plane\nCreate a plane-surface YZ plane.\n\n"
      ]
    },
    {
      "cell_type": "code",
      "execution_count": null,
      "metadata": {
        "collapsed": false
      },
      "outputs": [],
      "source": [
        "surf_yz_plane = graphics.Surfaces[\"yz-plane\"]\nsurf_yz_plane.definition.type = \"plane-surface\"\nplane_surface_yz = surf_yz_plane.definition.plane_surface\nplane_surface_yz.x = -0.174628\nsurf_yz_plane.display(\"window-4\")"
      ]
    },
    {
      "cell_type": "markdown",
      "metadata": {},
      "source": [
        "## Create plane-surface ZX plane\nCreate a plane-surface ZX plane.\n\n"
      ]
    },
    {
      "cell_type": "code",
      "execution_count": null,
      "metadata": {
        "collapsed": false
      },
      "outputs": [],
      "source": [
        "surf_zx_plane = graphics.Surfaces[\"zx-plane\"]\nsurf_zx_plane.definition.type = \"plane-surface\"\nplane_surface_zx = surf_zx_plane.definition.plane_surface\nplane_surface_zx.y = -0.0627297\nsurf_zx_plane.display(\"window-5\")"
      ]
    },
    {
      "cell_type": "markdown",
      "metadata": {},
      "source": [
        "## Create iso-surface on outlet plane\nCreate an iso-surface on the outlet plane.\n\n"
      ]
    },
    {
      "cell_type": "code",
      "execution_count": null,
      "metadata": {
        "collapsed": false
      },
      "outputs": [],
      "source": [
        "surf_outlet_plane = graphics.Surfaces[\"outlet-plane\"]\nsurf_outlet_plane.definition.type = \"iso-surface\"\niso_surf1 = surf_outlet_plane.definition.iso_surface\niso_surf1.field = \"y-coordinate\"\niso_surf1.iso_value = -0.125017\nsurf_outlet_plane.display(\"window-3\")"
      ]
    },
    {
      "cell_type": "markdown",
      "metadata": {},
      "source": [
        "## Create iso-surface on mid-plane\nCreate an iso-surface on the mid-plane.\n\n"
      ]
    },
    {
      "cell_type": "code",
      "execution_count": null,
      "metadata": {
        "collapsed": false
      },
      "outputs": [],
      "source": [
        "surf_mid_plane_x = graphics.Surfaces[\"mid-plane-x\"]\nsurf_mid_plane_x.definition.type = \"iso-surface\"\niso_surf2 = surf_mid_plane_x.definition.iso_surface\niso_surf2.field = \"x-coordinate\"\niso_surf2.iso_value = -0.174\nsurf_mid_plane_x.display(\"window-4\")"
      ]
    },
    {
      "cell_type": "markdown",
      "metadata": {},
      "source": [
        "## Create iso-surface using velocity magnitude\nCreate an iso-surface using the velocity magnitude.\n\n"
      ]
    },
    {
      "cell_type": "code",
      "execution_count": null,
      "metadata": {
        "collapsed": false
      },
      "outputs": [],
      "source": [
        "surf_vel_contour = graphics.Surfaces[\"surf-vel-contour\"]\nsurf_vel_contour.definition.type = \"iso-surface\"\niso_surf3 = surf_vel_contour.definition.iso_surface\niso_surf3.field = \"velocity-magnitude\"\niso_surf3.rendering = \"contour\"\niso_surf3.iso_value = 0.0\nsurf_vel_contour.display(\"window-5\")"
      ]
    },
    {
      "cell_type": "markdown",
      "metadata": {},
      "source": [
        "## Create temperature contour on mid-plane and outlet\nCreate a temperature contour on the mid-plane and the outlet.\n\n"
      ]
    },
    {
      "cell_type": "code",
      "execution_count": null,
      "metadata": {
        "collapsed": false
      },
      "outputs": [],
      "source": [
        "temperature_contour = graphics.Contours[\"contour-temperature\"]\ntemperature_contour.field = \"temperature\"\ntemperature_contour.surfaces_list = [\"mid-plane-x\", \"outlet-plane\"]\ntemperature_contour.display(\"window-6\")"
      ]
    },
    {
      "cell_type": "markdown",
      "metadata": {},
      "source": [
        "## Create contour plot of temperature on manifold\nCreate a contour plot of the temperature on the manifold.\n\n"
      ]
    },
    {
      "cell_type": "code",
      "execution_count": null,
      "metadata": {
        "collapsed": false
      },
      "outputs": [],
      "source": [
        "temperature_contour_manifold = graphics.Contours[\"contour-temperature-manifold\"]\ntemperature_contour_manifold.field = \"temperature\"\ntemperature_contour_manifold.surfaces_list = [\n    \"in1\",\n    \"in2\",\n    \"in3\",\n    \"out1\",\n    \"solid_up:1\",\n    \"solid_up:1:830\",\n]\ntemperature_contour_manifold.display(\"window-7\")"
      ]
    },
    {
      "cell_type": "markdown",
      "metadata": {},
      "source": [
        "## Create vector\nCreate a vector on a predefined surface.\n\n"
      ]
    },
    {
      "cell_type": "code",
      "execution_count": null,
      "metadata": {
        "collapsed": false
      },
      "outputs": [],
      "source": [
        "velocity_vector = graphics.Vectors[\"velocity-vector\"]\nvelocity_vector.field = \"pressure\"\nvelocity_vector.surfaces_list = [\"solid_up:1:830\"]\nvelocity_vector.scale = 2\nvelocity_vector.display(\"window-8\")"
      ]
    },
    {
      "cell_type": "markdown",
      "metadata": {},
      "source": [
        "## Create Pathlines\nCreate a pathlines on a predefined surface.\n\n"
      ]
    },
    {
      "cell_type": "code",
      "execution_count": null,
      "metadata": {
        "collapsed": false
      },
      "outputs": [],
      "source": [
        "pathlines = graphics.Pathlines[\"pathlines\"]\npathlines.field = \"velocity-magnitude\"\npathlines.surfaces_list = [\"inlet\", \"inlet1\", \"inlet2\"]\n# pathlines.display(\"window-9\")"
      ]
    },
    {
      "cell_type": "markdown",
      "metadata": {},
      "source": [
        "## Create plot object\nCreate the plot object for the session.\n\n"
      ]
    },
    {
      "cell_type": "code",
      "execution_count": null,
      "metadata": {
        "collapsed": false
      },
      "outputs": [],
      "source": [
        "plots_session_1 = Plots(solver_session)"
      ]
    },
    {
      "cell_type": "markdown",
      "metadata": {},
      "source": [
        "## Create XY plot\nCreate the default XY plot.\n\n"
      ]
    },
    {
      "cell_type": "code",
      "execution_count": null,
      "metadata": {
        "collapsed": false
      },
      "outputs": [],
      "source": [
        "xy_plot = plots_session_1.XYPlots[\"xy-plot\"]"
      ]
    },
    {
      "cell_type": "markdown",
      "metadata": {},
      "source": [
        "## Set plot surface and Y-axis function\nSet the surface on which to generate the plot and the Y-axis function.\n\n"
      ]
    },
    {
      "cell_type": "code",
      "execution_count": null,
      "metadata": {
        "collapsed": false
      },
      "outputs": [],
      "source": [
        "xy_plot.surfaces_list = [\"outlet\"]\nxy_plot.y_axis_function = \"temperature\""
      ]
    },
    {
      "cell_type": "markdown",
      "metadata": {},
      "source": [
        "## Display XY plot\nDisplay the generated XY plot.\n\n"
      ]
    },
    {
      "cell_type": "code",
      "execution_count": null,
      "metadata": {
        "collapsed": false
      },
      "outputs": [],
      "source": [
        "xy_plot.plot(\"window-9\")"
      ]
    },
    {
      "cell_type": "markdown",
      "metadata": {},
      "source": [
        "## Create residual plot\nCreate and display the residual plot.\n\n"
      ]
    },
    {
      "cell_type": "code",
      "execution_count": null,
      "metadata": {
        "collapsed": false
      },
      "outputs": [],
      "source": [
        "matplotlib_plots1 = Plots(solver_session)\nresidual = matplotlib_plots1.Monitors[\"residual\"]\nresidual.monitor_set_name = \"residual\"\nresidual.plot(\"window-10\")"
      ]
    },
    {
      "cell_type": "markdown",
      "metadata": {},
      "source": [
        "## Solve and plot solution monitors\nSolve and plot solution monitors.\n\n"
      ]
    },
    {
      "cell_type": "code",
      "execution_count": null,
      "metadata": {
        "collapsed": false
      },
      "outputs": [],
      "source": [
        "solver_session.tui.solve.initialize.hyb_initialization()\nsolver_session.tui.solve.set.number_of_iterations(50)\nsolver_session.tui.solve.iterate()\nmatplotlib_plots1 = Plots(solver_session)\nmass_bal_rplot = matplotlib_plots1.Monitors[\"mass-bal-rplot\"]\nmass_bal_rplot.monitor_set_name = \"mass-bal-rplot\"\nmass_bal_rplot.plot(\"window-11\")\n\nmatplotlib_plots1 = Plots(solver_session)\npoint_vel_rplot = matplotlib_plots1.Monitors[\"point-vel-rplot\"]\npoint_vel_rplot.monitor_set_name = \"point-vel-rplot\"\npoint_vel_rplot.plot(\"window-12\")"
      ]
    },
    {
      "cell_type": "markdown",
      "metadata": {},
      "source": [
        "## Close Fluent\nClose Fluent.\n\n"
      ]
    },
    {
      "cell_type": "code",
      "execution_count": null,
      "metadata": {
        "collapsed": false
      },
      "outputs": [],
      "source": [
        "solver_session.exit()"
      ]
    }
  ],
  "metadata": {
    "kernelspec": {
      "display_name": "Python 3",
      "language": "python",
      "name": "python3"
    },
    "language_info": {
      "codemirror_mode": {
        "name": "ipython",
        "version": 3
      },
      "file_extension": ".py",
      "mimetype": "text/x-python",
      "name": "python",
      "nbconvert_exporter": "python",
      "pygments_lexer": "ipython3",
      "version": "3.9.16"
    }
  },
  "nbformat": 4,
  "nbformat_minor": 0
}