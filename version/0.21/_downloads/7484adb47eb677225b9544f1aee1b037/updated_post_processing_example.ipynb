{
  "cells": [
    {
      "cell_type": "markdown",
      "metadata": {},
      "source": [
        "\n# Enhanced Postprocessing\nThis updated example demonstrates postprocessing capabilities in PyFluent\nusing an object-oriented approach, providing a more user-friendly interface\nand improved flexibility.\nThe 3D model used in this example is an exhaust manifold, where high-temperature\nturbulent flows are analyzed in a conjugate heat transfer scenario.\n\nKey Improvements:\n\nObject-Oriented Design: The code has been modularized into classes and methods,\nenhancing maintainability and reusability.\n\nInteractive User Interface: The user interface now allows seamless interaction,\nenabling users to control and customize postprocessing parameters.\n\nEnhanced Plot Interaction: Users have greater freedom to interact with the plots,\nsuch as adding and super-imposing multiple plots, and toggling data views,\nenhancing the visualization experience.\n\nThis example utilizes PyVista for 3D visualization and for 2D data plotting.\nThe new design provides a streamlined workflow for exploring and analyzing\nthe temperature and flow characteristics in the exhaust manifold.\n"
      ]
    },
    {
      "cell_type": "markdown",
      "metadata": {},
      "source": [
        "Run the following in command prompt to execute this file:\nexec(open(\"updated_post_processing_example.py\").read())\n\n"
      ]
    },
    {
      "cell_type": "markdown",
      "metadata": {},
      "source": [
        "## Perform required imports\nPerform required imports and set the configuration.\n\n"
      ]
    },
    {
      "cell_type": "code",
      "execution_count": null,
      "metadata": {
        "collapsed": false
      },
      "outputs": [],
      "source": [
        "import ansys.fluent.core as pyfluent\nfrom ansys.fluent.core import examples\nfrom ansys.fluent.core.solver import (\n    PressureOutlets,\n    VelocityInlets,\n    WallBoundaries,\n    WallBoundary,\n    using,\n)\nfrom ansys.units import VariableCatalog\n\nfrom ansys.fluent.visualization import (\n    Contour,\n    GraphicsWindow,\n    IsoSurface,\n    Mesh,\n    Monitor,\n    Pathline,\n    PlaneSurface,\n    Vector,\n    XYPlot,\n    config,\n)\n\npyfluent.CONTAINER_MOUNT_PATH = pyfluent.EXAMPLES_PATH\n\nconfig.interactive = False\nconfig.view = \"isometric\""
      ]
    },
    {
      "cell_type": "markdown",
      "metadata": {},
      "source": [
        "## Download files and launch Fluent\nDownload the case and data files and launch Fluent as a service in solver\nmode with double precision and two processors. Read in the case and data\nfiles.\n\n"
      ]
    },
    {
      "cell_type": "code",
      "execution_count": null,
      "metadata": {
        "collapsed": false
      },
      "outputs": [],
      "source": [
        "import_case = examples.download_file(\n    file_name=\"exhaust_system.cas.h5\", directory=\"pyfluent/exhaust_system\"\n)\n\nimport_data = examples.download_file(\n    file_name=\"exhaust_system.dat.h5\", directory=\"pyfluent/exhaust_system\"\n)\n\nsolver_session = pyfluent.launch_fluent(\n    precision=pyfluent.Precision.DOUBLE,\n    processor_count=2,\n    start_transcript=False,\n    mode=pyfluent.FluentMode.SOLVER,\n)\n\nsolver_session.settings.file.read_case(file_name=import_case)\nsolver_session.settings.file.read_data(file_name=import_data)\n\nwith using(solver_session):\n\n    # Create a graphics object for the mesh display.\n    graphics_window = GraphicsWindow()\n\n    mesh = Mesh(show_edges=True, surfaces=WallBoundaries())\n    graphics_window.add_graphics(mesh, position=(0, 0))\n\n    mesh = Mesh(surfaces=WallBoundaries())\n    graphics_window.add_graphics(mesh, position=(0, 1))\n\n    graphics_window.show()\n\n    # Create XY, YZ, ZX and an arbitrary plane-surface objects\n    # from point and normal and display.\n    graphics_window = GraphicsWindow()\n\n    surf_xy_plane = PlaneSurface.create_from_point_and_normal(\n        point=[0.0, 0.0, -0.0441921], normal=[0.0, 0.0, 1.0]\n    )\n    graphics_window.add_graphics(surf_xy_plane, position=(0, 0))\n\n    surf_yz_plane = PlaneSurface.create_from_point_and_normal(\n        point=[-0.174628, 0.0, 0.0], normal=[1.0, 0.0, 0.0]\n    )\n    graphics_window.add_graphics(surf_yz_plane, position=(0, 1))\n\n    surf_zx_plane = PlaneSurface.create_from_point_and_normal(\n        point=[0.0, -0.0627297, 0.0], normal=[0.0, 1.0, 0.0]\n    )\n    graphics_window.add_graphics(surf_zx_plane, position=(0, 2))\n\n    # Create XY, YZ and ZX plane-surface objects and display.\n    surf_xy_plane = PlaneSurface.create_xy_plane(z=-0.0441921)\n    graphics_window.add_graphics(surf_xy_plane, position=(1, 0))\n\n    surf_yz_plane = PlaneSurface.create_yz_plane(x=-0.174628)\n    graphics_window.add_graphics(surf_yz_plane, position=(1, 1))\n\n    surf_zx_plane = PlaneSurface.create_zx_plane(y=-0.0627297)\n    graphics_window.add_graphics(surf_zx_plane, position=(1, 2))\n\n    graphics_window.show()\n\n    # Create an iso-surface on the outlet and mid-plane.\n    graphics_window = GraphicsWindow()\n\n    surf_outlet_plane = IsoSurface(field=\"y-coordinate\", iso_value=-0.125017)\n    graphics_window.add_graphics(surf_outlet_plane, position=(0, 0))\n\n    surf_mid_plane_x = IsoSurface(field=\"x-coordinate\", iso_value=-0.174)\n    graphics_window.add_graphics(surf_mid_plane_x, position=(1, 0))\n\n    graphics_window.show()\n\n    # Create an iso-surface using the velocity magnitude, a temperature contour\n    # on the mid-plane and the outlet, a contour plot of the temperature on the\n    # manifold and a vector on a predefined surface.\n    graphics_window = GraphicsWindow()\n\n    surf_vel_contour = IsoSurface(\n        field=VariableCatalog.VELOCITY_MAGNITUDE, rendering=\"contour\", iso_value=0.0\n    )\n    graphics_window.add_graphics(surf_vel_contour)\n\n    temperature_contour = Contour(\n        field=VariableCatalog.TEMPERATURE,\n        surfaces=[surf_mid_plane_x.name, surf_outlet_plane.name],\n    )\n    graphics_window.add_graphics(temperature_contour, position=(0, 1))\n\n    temperature_contour_manifold = Contour(\n        field=VariableCatalog.TEMPERATURE, surfaces=WallBoundaries()\n    )\n    graphics_window.add_graphics(temperature_contour_manifold, position=(1, 0))\n\n    velocity_vector = Vector(\n        field=VariableCatalog.VELOCITY_X,\n        surfaces=[WallBoundary(name=\"solid_up:1:830\")],\n        scale=20,\n    )\n    graphics_window.add_graphics(velocity_vector, position=(1, 1))\n\n    graphics_window.show()\n\n    # Create a pathlines on a predefined surface.\n    graphics_window = GraphicsWindow()\n\n    pathlines = Pathline(\n        field=VariableCatalog.VELOCITY_MAGNITUDE, surfaces=VelocityInlets()\n    )\n    graphics_window.add_graphics(pathlines)\n\n    graphics_window.show()\n\n    # Create a combined mesh and vector plot by varying opacity.\n    graphics_window = GraphicsWindow()\n\n    graphics_window.add_graphics(mesh, opacity=0.05)\n    graphics_window.add_graphics(velocity_vector)\n\n    graphics_window.show()\n\n    # Create and display XY plot, residual plot and solve and plot solution monitors.\n    plot_window = GraphicsWindow()\n\n    xy_plot_object = XYPlot(\n        surfaces=PressureOutlets(), y_axis_function=VariableCatalog.TEMPERATURE\n    )\n    plot_window.add_plot(xy_plot_object, position=(0, 0), title=\"Temperature\")\n\n    residual = Monitor(monitor_set_name=\"residual\")\n    plot_window.add_plot(residual, position=(0, 1))\n\n    solver_session.solution.initialization.hybrid_initialize()\n    solver_session.solution.run_calculation.iterate(iter_count=50)\n\n    mass_bal_rplot = Monitor(monitor_set_name=\"mass-bal-rplot\")\n    plot_window.add_plot(mass_bal_rplot, position=(1, 0))\n\n    point_vel_rplot = Monitor(monitor_set_name=\"point-vel-rplot\")\n    plot_window.add_plot(point_vel_rplot, position=(1, 1))\n\n    plot_window.show()\n\n    plot_window.renderer = \"matplotlib\"\n    plot_window.show()"
      ]
    }
  ],
  "metadata": {
    "kernelspec": {
      "display_name": "Python 3",
      "language": "python",
      "name": "python3"
    },
    "language_info": {
      "codemirror_mode": {
        "name": "ipython",
        "version": 3
      },
      "file_extension": ".py",
      "mimetype": "text/x-python",
      "name": "python",
      "nbconvert_exporter": "python",
      "pygments_lexer": "ipython3",
      "version": "3.10.16"
    }
  },
  "nbformat": 4,
  "nbformat_minor": 0
}