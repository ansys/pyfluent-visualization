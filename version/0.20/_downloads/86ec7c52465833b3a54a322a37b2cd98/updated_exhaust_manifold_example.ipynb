{
  "cells": [
    {
      "cell_type": "markdown",
      "metadata": {},
      "source": [
        "\n# Enhanced Postprocessing with PyVista and Matplotlib\nThis updated example demonstrates postprocessing capabilities in PyFluent\nusing an object-oriented approach, providing a more user-friendly interface\nand improved flexibility.\nThe 3D model used in this example is an exhaust manifold, where high-temperature\nturbulent flows are analyzed in a conjugate heat transfer scenario.\n\nKey Improvements:\n\nObject-Oriented Design: The code has been modularized into classes and methods,\nenhancing maintainability and reusability.\n\nInteractive User Interface: The user interface now allows seamless interaction,\nenabling users to control and customize postprocessing parameters.\n\nEnhanced Plot Interaction: Users have greater freedom to interact with the plots,\nsuch as adding and super-imposing multiple plots, and toggling data views,\nenhancing the visualization experience.\n\nThis example utilizes PyVista for 3D visualization and Matplotlib for 2D data plotting.\nThe new design provides a streamlined workflow for exploring and analyzing\nthe temperature and flow characteristics in the exhaust manifold.\n"
      ]
    },
    {
      "cell_type": "markdown",
      "metadata": {},
      "source": [
        "## Perform required imports\nPerform required imports and set the configuration.\n\n"
      ]
    },
    {
      "cell_type": "code",
      "execution_count": null,
      "metadata": {
        "collapsed": false
      },
      "outputs": [],
      "source": [
        "import ansys.fluent.core as pyfluent\nfrom ansys.fluent.core import examples\n\nfrom ansys.fluent.visualization import (\n    Contour,\n    GraphicsWindow,\n    Mesh,\n    Monitor,\n    Pathline,\n    Surface,\n    Vector,\n    XYPlot,\n    config,\n)\n\npyfluent.CONTAINER_MOUNT_PATH = pyfluent.EXAMPLES_PATH\n\nconfig.interactive = False\nconfig.view = \"isometric\""
      ]
    },
    {
      "cell_type": "markdown",
      "metadata": {},
      "source": [
        "## Download files and launch Fluent\nDownload the case and data files and launch Fluent as a service in solver\nmode with double precision and two processors. Read in the case and data\nfiles.\n\n"
      ]
    },
    {
      "cell_type": "code",
      "execution_count": null,
      "metadata": {
        "collapsed": false
      },
      "outputs": [],
      "source": [
        "import_case = examples.download_file(\n    file_name=\"exhaust_system.cas.h5\", directory=\"pyfluent/exhaust_system\"\n)\n\nimport_data = examples.download_file(\n    file_name=\"exhaust_system.dat.h5\", directory=\"pyfluent/exhaust_system\"\n)\n\nsolver_session = pyfluent.launch_fluent(\n    precision=pyfluent.Precision.DOUBLE,\n    processor_count=2,\n    start_transcript=False,\n    mode=pyfluent.FluentMode.SOLVER,\n)\n\nsolver_session.settings.file.read_case(file_name=import_case)\nsolver_session.settings.file.read_data(file_name=import_data)"
      ]
    },
    {
      "cell_type": "markdown",
      "metadata": {},
      "source": [
        "## Create graphics object for mesh display\nCreate a graphics object for the mesh display.\n\n"
      ]
    },
    {
      "cell_type": "code",
      "execution_count": null,
      "metadata": {
        "collapsed": false
      },
      "outputs": [],
      "source": [
        "mesh_surfaces_list = [\n    \"in1\",\n    \"in2\",\n    \"in3\",\n    \"out1\",\n    \"solid_up:1\",\n    \"solid_up:1:830\",\n    \"solid_up:1:830-shadow\",\n]\nmesh = Mesh(solver=solver_session, show_edges=True, surfaces=mesh_surfaces_list)\ngraphics_window = GraphicsWindow()\ngraphics_window.add_graphics(mesh, position=(0, 0))\n\nmesh = Mesh(solver=solver_session, surfaces=mesh_surfaces_list)\ngraphics_window.add_graphics(mesh, position=(0, 1))\ngraphics_window.show()"
      ]
    },
    {
      "cell_type": "markdown",
      "metadata": {},
      "source": [
        "## Create plane-surface XY plane\nCreate a plane-surface XY plane.\n\n"
      ]
    },
    {
      "cell_type": "code",
      "execution_count": null,
      "metadata": {
        "collapsed": false
      },
      "outputs": [],
      "source": [
        "surf_xy_plane = Surface(\n    solver=solver_session,\n    type=\"plane-surface\",\n    creation_method=\"xy-plane\",\n    z=-0.0441921,\n)\ngraphics_window = GraphicsWindow()\ngraphics_window.add_graphics(surf_xy_plane, position=(0, 0))"
      ]
    },
    {
      "cell_type": "markdown",
      "metadata": {},
      "source": [
        "## Create plane-surface YZ plane\nCreate a plane-surface YZ plane.\n\n"
      ]
    },
    {
      "cell_type": "code",
      "execution_count": null,
      "metadata": {
        "collapsed": false
      },
      "outputs": [],
      "source": [
        "surf_yz_plane = Surface(\n    solver=solver_session, type=\"plane-surface\", creation_method=\"yz-plane\", x=-0.174628\n)\ngraphics_window.add_graphics(surf_yz_plane, position=(0, 1))"
      ]
    },
    {
      "cell_type": "markdown",
      "metadata": {},
      "source": [
        "## Create plane-surface ZX plane\nCreate a plane-surface ZX plane.\n\n"
      ]
    },
    {
      "cell_type": "code",
      "execution_count": null,
      "metadata": {
        "collapsed": false
      },
      "outputs": [],
      "source": [
        "surf_zx_plane = Surface(\n    solver=solver_session,\n    type=\"plane-surface\",\n    creation_method=\"zx-plane\",\n    y=-0.0627297,\n)\ngraphics_window.add_graphics(surf_zx_plane, position=(0, 2))\ngraphics_window.show()"
      ]
    },
    {
      "cell_type": "markdown",
      "metadata": {},
      "source": [
        "## Create iso-surface on outlet plane\nCreate an iso-surface on the outlet plane.\n\n"
      ]
    },
    {
      "cell_type": "code",
      "execution_count": null,
      "metadata": {
        "collapsed": false
      },
      "outputs": [],
      "source": [
        "surf_outlet_plane = Surface(solver=solver_session)\nsurf_outlet_plane.type = \"iso-surface\"\nsurf_outlet_plane.field = \"y-coordinate\"\nsurf_outlet_plane.iso_value = -0.125017\ngraphics_window = GraphicsWindow()\ngraphics_window.add_graphics(surf_outlet_plane, position=(0, 0))"
      ]
    },
    {
      "cell_type": "markdown",
      "metadata": {},
      "source": [
        "## Create iso-surface on mid-plane\nCreate an iso-surface on the mid-plane.\n\n"
      ]
    },
    {
      "cell_type": "code",
      "execution_count": null,
      "metadata": {
        "collapsed": false
      },
      "outputs": [],
      "source": [
        "surf_mid_plane_x = Surface(\n    solver=solver_session, type=\"iso-surface\", field=\"x-coordinate\", iso_value=-0.174\n)\ngraphics_window.add_graphics(surf_mid_plane_x, position=(1, 0))\ngraphics_window.show()"
      ]
    },
    {
      "cell_type": "markdown",
      "metadata": {},
      "source": [
        "## Create iso-surface using velocity magnitude\nCreate an iso-surface using the velocity magnitude.\n\n"
      ]
    },
    {
      "cell_type": "code",
      "execution_count": null,
      "metadata": {
        "collapsed": false
      },
      "outputs": [],
      "source": [
        "surf_vel_contour = Surface(\n    solver=solver_session,\n    type=\"iso-surface\",\n    field=\"velocity-magnitude\",\n    rendering=\"contour\",\n    iso_value=0.0,\n)\ngraphics_window = GraphicsWindow()\ngraphics_window.add_graphics(surf_vel_contour, position=(0, 0))"
      ]
    },
    {
      "cell_type": "markdown",
      "metadata": {},
      "source": [
        "## Create temperature contour on mid-plane and outlet\nCreate a temperature contour on the mid-plane and the outlet.\n\n"
      ]
    },
    {
      "cell_type": "code",
      "execution_count": null,
      "metadata": {
        "collapsed": false
      },
      "outputs": [],
      "source": [
        "temperature_contour = Contour(solver=solver_session)\ntemperature_contour.field = \"temperature\"\ntemperature_contour.surfaces = [surf_mid_plane_x.name, surf_outlet_plane.name]\ngraphics_window.add_graphics(temperature_contour, position=(0, 1))"
      ]
    },
    {
      "cell_type": "markdown",
      "metadata": {},
      "source": [
        "## Create contour plot of temperature on manifold\nCreate a contour plot of the temperature on the manifold.\n\n"
      ]
    },
    {
      "cell_type": "code",
      "execution_count": null,
      "metadata": {
        "collapsed": false
      },
      "outputs": [],
      "source": [
        "cont_surfaces_list = [\n    \"in1\",\n    \"in2\",\n    \"in3\",\n    \"out1\",\n    \"solid_up:1\",\n    \"solid_up:1:830\",\n]\ntemperature_contour_manifold = Contour(\n    solver=solver_session,\n    field=\"temperature\",\n    surfaces=cont_surfaces_list,\n)\ngraphics_window.add_graphics(temperature_contour_manifold, position=(1, 0))"
      ]
    },
    {
      "cell_type": "markdown",
      "metadata": {},
      "source": [
        "## Create vector\nCreate a vector on a predefined surface.\n\n"
      ]
    },
    {
      "cell_type": "code",
      "execution_count": null,
      "metadata": {
        "collapsed": false
      },
      "outputs": [],
      "source": [
        "velocity_vector = Vector(\n    solver=solver_session,\n    field=\"x-velocity\",\n    surfaces=[\"solid_up:1:830\"],\n    scale=2,\n)\ngraphics_window.add_graphics(velocity_vector, position=(1, 1))\ngraphics_window.show()"
      ]
    },
    {
      "cell_type": "markdown",
      "metadata": {},
      "source": [
        "## Create Pathlines\nCreate a pathlines on a predefined surface.\n\n"
      ]
    },
    {
      "cell_type": "code",
      "execution_count": null,
      "metadata": {
        "collapsed": false
      },
      "outputs": [],
      "source": [
        "pathlines = Pathline(solver=solver_session)\npathlines.field = \"velocity-magnitude\"\npathlines.surfaces = [\"inlet\", \"inlet1\", \"inlet2\"]\n\ngraphics_window = GraphicsWindow()\ngraphics_window.add_graphics(pathlines)\ngraphics_window.show()\n\ngraphics_window = GraphicsWindow()\ngraphics_window.add_graphics(mesh, opacity=0.05)\ngraphics_window.add_graphics(velocity_vector)\ngraphics_window.show()"
      ]
    },
    {
      "cell_type": "markdown",
      "metadata": {},
      "source": [
        "## Create XY plot\nCreate the default XY plot.\n\n"
      ]
    },
    {
      "cell_type": "code",
      "execution_count": null,
      "metadata": {
        "collapsed": false
      },
      "outputs": [],
      "source": [
        "xy_plot_object = XYPlot(\n    solver=solver_session,\n    surfaces=[\"outlet\"],\n    y_axis_function=\"temperature\",\n)\nplot_window = GraphicsWindow()\nplot_window.add_plot(xy_plot_object, position=(0, 0))"
      ]
    },
    {
      "cell_type": "markdown",
      "metadata": {},
      "source": [
        "## Create residual plot\nCreate and display the residual plot.\n\n"
      ]
    },
    {
      "cell_type": "code",
      "execution_count": null,
      "metadata": {
        "collapsed": false
      },
      "outputs": [],
      "source": [
        "residual = Monitor(solver=solver_session)\nresidual.monitor_set_name = \"residual\"\nplot_window.add_plot(residual, position=(0, 1))"
      ]
    },
    {
      "cell_type": "markdown",
      "metadata": {},
      "source": [
        "## Solve and plot solution monitors\nSolve and plot solution monitors.\n\n"
      ]
    },
    {
      "cell_type": "code",
      "execution_count": null,
      "metadata": {
        "collapsed": false
      },
      "outputs": [],
      "source": [
        "solver_session.solution.initialization.hybrid_initialize()\nsolver_session.solution.run_calculation.iterate(iter_count=50)\n\nmass_bal_rplot = Monitor(solver=solver_session)\nmass_bal_rplot.monitor_set_name = \"mass-bal-rplot\"\nplot_window.add_plot(mass_bal_rplot, position=(1, 0))\n\npoint_vel_rplot = Monitor(solver=solver_session, monitor_set_name=\"point-vel-rplot\")\nplot_window.add_plot(point_vel_rplot, position=(1, 1))\nplot_window.show()"
      ]
    },
    {
      "cell_type": "markdown",
      "metadata": {},
      "source": [
        "## Close Fluent\nClose Fluent.\n\n"
      ]
    },
    {
      "cell_type": "code",
      "execution_count": null,
      "metadata": {
        "collapsed": false
      },
      "outputs": [],
      "source": [
        "solver_session.exit()"
      ]
    }
  ],
  "metadata": {
    "kernelspec": {
      "display_name": "Python 3",
      "language": "python",
      "name": "python3"
    },
    "language_info": {
      "codemirror_mode": {
        "name": "ipython",
        "version": 3
      },
      "file_extension": ".py",
      "mimetype": "text/x-python",
      "name": "python",
      "nbconvert_exporter": "python",
      "pygments_lexer": "ipython3",
      "version": "3.10.16"
    }
  },
  "nbformat": 4,
  "nbformat_minor": 0
}